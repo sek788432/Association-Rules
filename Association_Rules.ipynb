{
 "cells": [
  {
   "cell_type": "code",
   "execution_count": 1,
   "metadata": {
    "scrolled": true
   },
   "outputs": [],
   "source": [
    "import pandas as pd\n",
    "import csv\n",
    "from time import time\n",
    "from Apriori_FPGrowth import *"
   ]
  },
  {
   "cell_type": "markdown",
   "metadata": {},
   "source": [
    "# IBM Data Preprocessing"
   ]
  },
  {
   "cell_type": "code",
   "execution_count": 2,
   "metadata": {},
   "outputs": [
    {
     "name": "stdout",
     "output_type": "stream",
     "text": [
      "rows:  4797\n",
      "unique value:  52\n",
      "      TID item\n",
      "0       1  443\n",
      "1       1  470\n",
      "2       1  723\n",
      "3       1  973\n",
      "4       2    3\n",
      "...   ...  ...\n",
      "4792  828  111\n",
      "4793  828  451\n",
      "4794  828  487\n",
      "4795  828  488\n",
      "4796  828  523\n",
      "\n",
      "[4797 rows x 2 columns]\n"
     ]
    }
   ],
   "source": [
    "df = pd.read_csv(\"test_data.txt\",sep='[\\s,]{2,20}',engine = 'python')\n",
    "df.columns = [\"customer_id\",\"TID\",\"item\"]\n",
    "df = df.drop(columns= \"customer_id\")\n",
    "dataset1 = df\n",
    "dataset1[\"item\"] = dataset1[\"item\"].astype(str)\n",
    "print(\"rows: \",dataset1.shape[0])\n",
    "print(\"unique value: \",len(dataset1[\"item\"].unique()))   \n",
    "print(dataset1)"
   ]
  },
  {
   "cell_type": "markdown",
   "metadata": {},
   "source": [
    "# Kaggle BreadBasket Data Preprocessiong"
   ]
  },
  {
   "cell_type": "code",
   "execution_count": 3,
   "metadata": {},
   "outputs": [
    {
     "name": "stdout",
     "output_type": "stream",
     "text": [
      "rows:  21293\n",
      "unique value:  95\n",
      "        TID           item\n",
      "0         1          Bread\n",
      "1         2   Scandinavian\n",
      "2         2   Scandinavian\n",
      "3         3  Hot chocolate\n",
      "4         3            Jam\n",
      "...     ...            ...\n",
      "21288  9682         Coffee\n",
      "21289  9682            Tea\n",
      "21290  9683         Coffee\n",
      "21291  9683         Pastry\n",
      "21292  9684      Smoothies\n",
      "\n",
      "[21293 rows x 2 columns]\n"
     ]
    }
   ],
   "source": [
    "df = pd.read_csv(\"BreadBasket_DMS.csv\")\n",
    "df = df.drop(columns = [\"Date\",\"Time\"])\n",
    "df.columns = [\"TID\",\"item\"]\n",
    "dataset2 = df\n",
    "print(\"rows: \",dataset2.shape[0])\n",
    "print(\"unique value: \",len(dataset2[\"item\"].unique()))   \n",
    "print(dataset2)"
   ]
  },
  {
   "cell_type": "markdown",
   "metadata": {},
   "source": [
    "# Apriori With IBM Data"
   ]
  },
  {
   "cell_type": "code",
   "execution_count": 4,
   "metadata": {},
   "outputs": [
    {
     "name": "stdout",
     "output_type": "stream",
     "text": [
      "     support            itemsets\n",
      "133       24       (628, 487, 3)\n",
      "52        24          (628, 451)\n",
      "208       24  (628, 488, 3, 523)\n",
      "106       24       (111, 628, 3)\n",
      "116       24     (111, 628, 488)\n",
      "..       ...                 ...\n",
      "4        335              (487,)\n",
      "3        335              (451,)\n",
      "2        335              (111,)\n",
      "1        340                (3,)\n",
      "0        341              (523,)\n",
      "\n",
      "[256 rows x 2 columns]\n",
      "                                                  rules  confidence   support\n",
      "0                                    ('3',) -> ('523',)    0.979412  0.402174\n",
      "1                                    ('523',) -> ('3',)    0.976540  0.402174\n",
      "2                                  ('111',) -> ('523',)    0.970149  0.392512\n",
      "3                                  ('523',) -> ('111',)    0.953079  0.392512\n",
      "4                                  ('451',) -> ('523',)    0.973134  0.393720\n",
      "...                                                 ...         ...       ...\n",
      "2507  ('111', '3', '451', '487', '523', '764') -> ('...    1.000000  0.030193\n",
      "2508  ('111', '3', '451', '488', '523', '764') -> ('...    0.961538  0.030193\n",
      "2509  ('111', '3', '487', '488', '523', '764') -> ('...    0.961538  0.030193\n",
      "2510  ('111', '451', '487', '488', '523', '764') -> ...    1.000000  0.030193\n",
      "2511  ('3', '451', '487', '488', '523', '764') -> ('...    0.961538  0.030193\n",
      "\n",
      "[2512 rows x 3 columns]\n",
      "time:  64.04917240142822\n"
     ]
    }
   ],
   "source": [
    "t1 = time()\n",
    "apriori_data1_itemsets,apriori_data1_rules = Apriori(dataset1.copy(),24)\n",
    "print(apriori_data1_itemsets)\n",
    "print(apriori_data1_rules)\n",
    "t2 = time()\n",
    "print(\"time: \",t2-t1)"
   ]
  },
  {
   "cell_type": "markdown",
   "metadata": {},
   "source": [
    "# FP-Growth With IBM Data"
   ]
  },
  {
   "cell_type": "code",
   "execution_count": 5,
   "metadata": {},
   "outputs": [
    {
     "name": "stdout",
     "output_type": "stream",
     "text": [
      "     support            itemsets\n",
      "181       24     (111, 628, 523)\n",
      "183       24     (628, 487, 488)\n",
      "184       24       (628, 487, 3)\n",
      "185       24     (628, 487, 523)\n",
      "192       24  (628, 488, 3, 523)\n",
      "..       ...                 ...\n",
      "225      335              (451,)\n",
      "237      335              (487,)\n",
      "229      335              (111,)\n",
      "253      340                (3,)\n",
      "255      341              (523,)\n",
      "\n",
      "[256 rows x 2 columns]\n",
      "                           rules  confidence   support\n",
      "0           ('402',) -> ('705',)    0.333333  0.038647\n",
      "1           ('705',) -> ('402',)    0.864865  0.038647\n",
      "2     ('402',) -> ('705', '961')    0.312500  0.036232\n",
      "3     ('705',) -> ('402', '961')    0.810811  0.036232\n",
      "4     ('961',) -> ('705', '402')    0.789474  0.036232\n",
      "...                          ...         ...       ...\n",
      "2507    ('3', '487') -> ('523',)    0.978395  0.382850\n",
      "2508    ('3', '523') -> ('487',)    0.951952  0.382850\n",
      "2509    ('487', '523') -> ('3',)    0.978395  0.382850\n",
      "2510          ('3',) -> ('523',)    0.979412  0.402174\n",
      "2511          ('523',) -> ('3',)    0.976540  0.402174\n",
      "\n",
      "[2512 rows x 3 columns]\n",
      "time:  0.4966719150543213\n"
     ]
    }
   ],
   "source": [
    "t1 = time()\n",
    "fp_data1_itemsets,fp_data1_rules = fp_growth(dataset1.copy(),24)\n",
    "print(fp_data1_itemsets)\n",
    "print(fp_data1_rules)\n",
    "t2 = time()\n",
    "print(\"time: \",t2-t1)"
   ]
  },
  {
   "cell_type": "markdown",
   "metadata": {},
   "source": [
    "# Apriori With BreadBasket Data"
   ]
  },
  {
   "cell_type": "code",
   "execution_count": 6,
   "metadata": {},
   "outputs": [
    {
     "name": "stdout",
     "output_type": "stream",
     "text": [
      "     support                    itemsets\n",
      "107       40     (Coffee, Cake, Cookies)\n",
      "98        41  (Coffee, Alfajores, Bread)\n",
      "88        42                (Soup, Cake)\n",
      "85        42             (Brownie, Cake)\n",
      "49        43          (Coffee, Frittata)\n",
      "..       ...                         ...\n",
      "29       856             (Coffee, Bread)\n",
      "3        983                     (Cake,)\n",
      "2       1350                      (Tea,)\n",
      "1       3101                    (Bread,)\n",
      "0       4533                   (Coffee,)\n",
      "\n",
      "[115 rows x 2 columns]\n",
      "                                  rules  confidence   support\n",
      "0             ('Bread',) -> ('Coffee',)    0.276040  0.089812\n",
      "1             ('Coffee',) -> ('Bread',)    0.188837  0.089812\n",
      "2               ('Coffee',) -> ('Tea',)    0.104125  0.049523\n",
      "3               ('Tea',) -> ('Coffee',)    0.349630  0.049523\n",
      "4              ('Cake',) -> ('Coffee',)    0.527976  0.054454\n",
      "..                                  ...         ...       ...\n",
      "235  ('Sandwich',) -> ('Coffee', 'Tea')    0.075000  0.005351\n",
      "236  ('Tea',) -> ('Coffee', 'Sandwich')    0.037778  0.005351\n",
      "237  ('Coffee', 'Sandwich') -> ('Tea',)    0.140884  0.005351\n",
      "238  ('Coffee', 'Tea') -> ('Sandwich',)    0.108051  0.005351\n",
      "239  ('Sandwich', 'Tea') -> ('Coffee',)    0.375000  0.005351\n",
      "\n",
      "[240 rows x 3 columns]\n",
      "time:  23.976885080337524\n"
     ]
    }
   ],
   "source": [
    "t1 = time()\n",
    "apriori_data2_itemsets,apriori_data2_rules = Apriori(dataset2.copy(),40)\n",
    "print(apriori_data2_itemsets)\n",
    "print(apriori_data2_rules)\n",
    "t2 = time()\n",
    "print(\"time: \",t2-t1)"
   ]
  },
  {
   "cell_type": "markdown",
   "metadata": {},
   "source": [
    "# FP-Growth With BreadBasket Data"
   ]
  },
  {
   "cell_type": "code",
   "execution_count": 7,
   "metadata": {},
   "outputs": [
    {
     "name": "stdout",
     "output_type": "stream",
     "text": [
      "     support                    itemsets\n",
      "64        40     (Coffee, Cake, Cookies)\n",
      "42        41  (Coffee, Alfajores, Bread)\n",
      "58        42             (Brownie, Cake)\n",
      "29        42                (Soup, Cake)\n",
      "5         43          (Frittata, Coffee)\n",
      "..       ...                         ...\n",
      "113      856             (Coffee, Bread)\n",
      "101      983                     (Cake,)\n",
      "108     1350                      (Tea,)\n",
      "112     3101                    (Bread,)\n",
      "114     4533                   (Coffee,)\n",
      "\n",
      "[115 rows x 2 columns]\n",
      "                               rules  confidence   support\n",
      "0       ('Coffee',) -> ('Frittata',)    0.009486  0.004512\n",
      "1       ('Frittata',) -> ('Coffee',)    0.530864  0.004512\n",
      "2          ('Coffee',) -> ('Salad',)    0.013677  0.006505\n",
      "3          ('Salad',) -> ('Coffee',)    0.626263  0.006505\n",
      "4             ('Bread',) -> ('Jam',)    0.015801  0.005141\n",
      "..                               ...         ...       ...\n",
      "235  ('Coffee', 'Tea') -> ('Bread',)    0.148305  0.007344\n",
      "236          ('Coffee',) -> ('Tea',)    0.104125  0.049523\n",
      "237          ('Tea',) -> ('Coffee',)    0.349630  0.049523\n",
      "238        ('Bread',) -> ('Coffee',)    0.276040  0.089812\n",
      "239        ('Coffee',) -> ('Bread',)    0.188837  0.089812\n",
      "\n",
      "[240 rows x 3 columns]\n",
      "time:  3.4191603660583496\n"
     ]
    }
   ],
   "source": [
    "t1 = time()\n",
    "fp_data2_itemsets,fp_data2_rules = fp_growth(dataset2.copy(),40)\n",
    "print(fp_data2_itemsets)\n",
    "print(fp_data2_rules)\n",
    "t2 = time()\n",
    "print(\"time: \",t2-t1)"
   ]
  },
  {
   "cell_type": "markdown",
   "metadata": {},
   "source": [
    "# Time Comparison in IBM data"
   ]
  },
  {
   "cell_type": "code",
   "execution_count": 8,
   "metadata": {},
   "outputs": [
    {
     "name": "stderr",
     "output_type": "stream",
     "text": [
      "100%|██████████| 6/6 [04:51<00:00, 48.62s/it]\n"
     ]
    },
    {
     "data": {
      "image/png": "[encoded data removed]",
      "text/plain": [
       "<Figure size 432x288 with 1 Axes>"
      ]
     },
     "metadata": {
      "needs_background": "light"
     },
     "output_type": "display_data"
    }
   ],
   "source": [
    "import matplotlib.pyplot as plt\n",
    "support_try = [20,25,30,35,40,45]\n",
    "apriori_time = []\n",
    "fp_time = []\n",
    "for i in tqdm(support_try):\n",
    "    t1 = time()\n",
    "    _,_ = Apriori(dataset1.copy(),32)\n",
    "    t2 = time()\n",
    "    apriori_time.append(t2-t1)\n",
    "    t1 = time()\n",
    "    _,_ = fp_growth(dataset1.copy(),32) \n",
    "    t2 = time()\n",
    "    fp_time.append(t2-t1)\n",
    "\n",
    "plt.plot(support_try,apriori_time)\n",
    "plt.plot(support_try,fp_time)\n",
    "plt.title('Algorithms Time for IBM data')\n",
    "plt.ylabel('time (second)')\n",
    "plt.xlabel('support')\n",
    "plt.legend(['Apriori', 'Fp'], loc='upper left')\n",
    "plt.show()"
   ]
  },
  {
   "cell_type": "markdown",
   "metadata": {},
   "source": [
    "# Time Comparison in Bread Data"
   ]
  },
  {
   "cell_type": "code",
   "execution_count": 9,
   "metadata": {},
   "outputs": [
    {
     "name": "stderr",
     "output_type": "stream",
     "text": [
      "100%|██████████| 6/6 [04:30<00:00, 45.12s/it]\n"
     ]
    },
    {
     "data": {
      "image/png": "[encoded data removed]",
      "text/plain": [
       "<Figure size 432x288 with 1 Axes>"
      ]
     },
     "metadata": {
      "needs_background": "light"
     },
     "output_type": "display_data"
    }
   ],
   "source": [
    "support_try = [50,55,60,82,115,250]\n",
    "apriori_time = []\n",
    "fp_time = []\n",
    "for i in tqdm(support_try):\n",
    "    t1 = time()\n",
    "    _,_ = Apriori(dataset2.copy(),32)\n",
    "    t2 = time()\n",
    "    apriori_time.append(t2-t1)\n",
    "    t1 = time()\n",
    "    _,_ = fp_growth(dataset2.copy(),32) \n",
    "    t2 = time()\n",
    "    fp_time.append(t2-t1)\n",
    "plt.plot(support_try,apriori_time)\n",
    "plt.plot(support_try,fp_time)\n",
    "plt.title('Algorithms Time for Bread data')\n",
    "plt.ylabel('time (second)')\n",
    "plt.xlabel('support')\n",
    "plt.legend(['Apriori', 'Fp'], loc='upper left')\n",
    "plt.show()"
   ]
  }
 ],
 "metadata": {
  "kernelspec": {
   "display_name": "Python 3",
   "language": "python",
   "name": "python3"
  },
  "language_info": {
   "codemirror_mode": {
    "name": "ipython",
    "version": 3
   },
   "file_extension": ".py",
   "mimetype": "text/x-python",
   "name": "python",
   "nbconvert_exporter": "python",
   "pygments_lexer": "ipython3",
   "version": "3.7.10"
  }
 },
 "nbformat": 4,
 "nbformat_minor": 4
}
